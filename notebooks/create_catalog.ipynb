{
 "cells": [
  {
   "cell_type": "code",
   "execution_count": null,
   "id": "9bd901f8-3ded-41cd-8b21-24cfa915fba4",
   "metadata": {},
   "outputs": [],
   "source": [
    "import pandas as pd\n",
    "from pathlib import Path"
   ]
  },
  {
   "cell_type": "code",
   "execution_count": null,
   "id": "e7b0e576-a62e-4ead-9bbe-9035c894875c",
   "metadata": {},
   "outputs": [],
   "source": [
    "data_path = Path(\"/home/jovyan/shared_materials/climattr_data_please-dont-copy/nc\")\n",
    "data_files = sorted(data_path.glob(\"*.nc\"))\n",
    "len(data_files)"
   ]
  },
  {
   "cell_type": "code",
   "execution_count": null,
   "id": "aaba40cd-f240-4734-ac92-091e3f8b91f2",
   "metadata": {},
   "outputs": [],
   "source": [
    "def parse_file_names(file_name):\n",
    "    variable, domain_resolution, gcm, experiment, member, rcm, version, time_resolution, start_end = file_name.split(\".\")[0].split(\"_\")\n",
    "    return {\n",
    "        \"variable\": variable,\n",
    "        \"domain_resolution\": domain_resolution,\n",
    "        \"experiment\": experiment,\n",
    "        \"member\": member,\n",
    "        \"gcm\": gcm,\n",
    "        \"rcm\": rcm,\n",
    "        \"time_resolution\": time_resolution,\n",
    "        \"version\": version,\n",
    "        \"start_end\": start_end,\n",
    "    }\n",
    "\n",
    "\n",
    "def build_nc_file_names(parsed):\n",
    "    return \"_\".join(\n",
    "        parsed[k] if k in parsed.keys() else \"*\" for k in [\n",
    "            \"variable\", \"domain_resolution\", \"gcm\", \"experiment\", \"member\", \"rcm\", \"version\", \"time_resolution\", \"start_end\",\n",
    "        ]\n",
    "    ) + \".nc\"\n",
    "\n",
    "\n",
    "def build_zarr_store_names(parsed):\n",
    "    return \"{variable}_{domain_resolution}_{gcm}_{rcm}.zarr\".format(**parsed)\n",
    "\n",
    "    \n",
    "def test_parse_file_names():\n",
    "    file_name = \"tasmax_EUR-11_MPI-M-MPI-ESM-LR_rcp85_r1i1p1_MPI-CSC-REMO2009_v1_day_20360101-20401231.nc\"\n",
    "    parsed = parse_file_names(file_name)\n",
    "    assert parsed[\"variable\"] == \"tasmax\"\n",
    "    assert parsed[\"domain_resolution\"] == \"EUR-11\"\n",
    "    assert parsed[\"experiment\"] == \"rcp85\"\n",
    "    assert parsed[\"member\"] == \"r1i1p1\"\n",
    "    assert parsed[\"gcm\"] == \"MPI-M-MPI-ESM-LR\"\n",
    "    assert parsed[\"rcm\"] == \"MPI-CSC-REMO2009\"\n",
    "    assert parsed[\"time_resolution\"] == \"day\"\n",
    "    assert parsed[\"version\"] == \"v1\"\n",
    "    assert parsed[\"start_end\"] == \"20360101-20401231\"\n",
    "\n",
    "\n",
    "def test_build_zarr_name():\n",
    "    file_name = \"tasmax_EUR-11_MPI-M-MPI-ESM-LR_rcp85_r1i1p1_MPI-CSC-REMO2009_v1_day_20360101-20401231.nc\"\n",
    "    parsed = parse_file_names(file_name)\n",
    "    zarr_name_true = \"tasmax_EUR-11_MPI-M-MPI-ESM-LR_MPI-CSC-REMO2009.zarr\"\n",
    "    zarr_name_test = build_zarr_store_names(parsed)\n",
    "    assert zarr_name_test == zarr_name_true\n",
    "\n",
    "\n",
    "def test_parse_build_roundtrip():\n",
    "    file_name_true = \"tasmax_EUR-11_MPI-M-MPI-ESM-LR_rcp85_r1i1p1_MPI-CSC-REMO2009_v1_day_20360101-20401231.nc\"\n",
    "    parsed = parse_file_names(file_name_true)\n",
    "    file_name_test = build_nc_file_names(parsed)\n",
    "    assert file_name_test == file_name_true\n",
    "\n",
    "\n",
    "def test_parse_build_wildcard():\n",
    "    file_name_full = \"tasmax_EUR-11_MPI-M-MPI-ESM-LR_rcp85_r1i1p1_MPI-CSC-REMO2009_v1_day_20360101-20401231.nc\"\n",
    "    file_name_true = \"tasmax_EUR-11_MPI-M-MPI-ESM-LR_*_*_MPI-CSC-REMO2009_*_day_*.nc\"\n",
    "    parsed = parse_file_names(file_name_full)\n",
    "    parsed.pop(\"experiment\")\n",
    "    parsed.pop(\"member\")\n",
    "    parsed.pop(\"version\")\n",
    "    parsed.pop(\"start_end\")\n",
    "    file_name_test = build_nc_file_names(parsed)\n",
    "    assert file_name_test == file_name_true\n",
    "\n",
    "\n",
    "test_build_zarr_name()\n",
    "test_parse_file_names()\n",
    "test_parse_build_roundtrip()\n",
    "test_parse_build_wildcard()"
   ]
  },
  {
   "cell_type": "code",
   "execution_count": null,
   "id": "8a378c86-c75e-4d71-8631-befa9a22454d",
   "metadata": {},
   "outputs": [],
   "source": [
    "df = df = pd.DataFrame.from_records(\n",
    "    [dict(parse_file_names(data_files[n].name), data_file=data_files[n]) for n in range(len(data_files))]\n",
    ")\n",
    "df[\"data_file_glob\"] = df[[\"domain_resolution\", \"gcm\", \"rcm\", \"variable\", \"data_file\"]].apply(lambda r: str(r[\"data_file\"].parent / build_nc_file_names(r)), axis=1)\n",
    "df"
   ]
  },
  {
   "cell_type": "code",
   "execution_count": null,
   "id": "87369695-9461-4787-bd1a-58c389e94635",
   "metadata": {},
   "outputs": [],
   "source": [
    "df[[\"domain_resolution\", \"gcm\", \"rcm\", \"variable\", \"data_file_glob\"]].drop_duplicates().to_csv(data_path / \"catalog.csv\", index=False)"
   ]
  },
  {
   "cell_type": "code",
   "execution_count": null,
   "id": "4d899432-8913-4a2e-9b97-eec7743c0eb0",
   "metadata": {},
   "outputs": [],
   "source": [
    "pd.read_csv(data_path/ \"catalog.csv\")"
   ]
  },
  {
   "cell_type": "code",
   "execution_count": null,
   "id": "c8bf384a-b9a0-41ec-81c6-6e6a171353c8",
   "metadata": {},
   "outputs": [],
   "source": [
    "df_zarr = df[[\"domain_resolution\", \"gcm\", \"rcm\", \"variable\"]].copy()\n",
    "df_zarr[\"zarr_name\"] = df_zarr.apply(lambda r: build_zarr_store_names(dict(r)), axis=1)\n",
    "df_zarr = df_zarr.drop_duplicates(ignore_index=True)\n",
    "df_zarr.to_csv(data_path / \"../zarr/catalog.csv\", index=False)\n",
    "!cat {str(data_path / \"../zarr/catalog.csv\")}"
   ]
  }
 ],
 "metadata": {
  "kernelspec": {
   "display_name": "Python 3 (ipykernel)",
   "language": "python",
   "name": "python3"
  },
  "language_info": {
   "codemirror_mode": {
    "name": "ipython",
    "version": 3
   },
   "file_extension": ".py",
   "mimetype": "text/x-python",
   "name": "python",
   "nbconvert_exporter": "python",
   "pygments_lexer": "ipython3",
   "version": "3.12.8"
  }
 },
 "nbformat": 4,
 "nbformat_minor": 5
}
